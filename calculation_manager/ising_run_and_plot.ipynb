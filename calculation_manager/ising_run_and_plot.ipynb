{
 "cells": [
  {
   "cell_type": "code",
   "execution_count": null,
   "metadata": {},
   "outputs": [],
   "source": [
    "import numpy as np\n",
    "import matplotlib.pyplot as plt\n",
    "from main import RustIsingExperimentCreator, get_lengths, get_results\n",
    "from default_parameters import get_default_monte_carlo_parameters"
   ]
  },
  {
   "cell_type": "markdown",
   "metadata": {},
   "source": [
    "## Perform Monte-Carlo calculation:"
   ]
  },
  {
   "cell_type": "markdown",
   "metadata": {},
   "source": [
    "#### Overview"
   ]
  },
  {
   "cell_type": "code",
   "execution_count": null,
   "metadata": {},
   "outputs": [],
   "source": [
    "folder   = \"results\"\n",
    "name     = \"overview\""
   ]
  },
  {
   "cell_type": "code",
   "execution_count": null,
   "metadata": {},
   "outputs": [],
   "source": [
    "my_lengths      = [8, 16, 32, 64, 128]\n",
    "temperatures    = np.linspace(0.5, 4.45, 80)\n",
    "\n",
    "(therm_steps, measure_steps) = get_default_monte_carlo_parameters(my_lengths)"
   ]
  },
  {
   "cell_type": "code",
   "execution_count": null,
   "metadata": {},
   "outputs": [],
   "source": [
    "builder = RustIsingExperimentCreator(folder=folder, name=name)\n",
    "\n",
    "experiment = builder.new_from_parameters(therm_steps=therm_steps, measure_steps=measure_steps, temperatures=temperatures)\n",
    "if not experiment.are_parameter_files_available():\n",
    "    experiment.write_parameter_files()"
   ]
  },
  {
   "cell_type": "code",
   "execution_count": null,
   "metadata": {},
   "outputs": [],
   "source": [
    "for L in get_lengths(experiment):\n",
    "    if not experiment.has_output(L):\n",
    "        experiment.run(L)\n",
    "    print(\"\")"
   ]
  },
  {
   "cell_type": "markdown",
   "metadata": {},
   "source": [
    "#### Load from file:"
   ]
  },
  {
   "cell_type": "code",
   "execution_count": null,
   "metadata": {},
   "outputs": [],
   "source": [
    "folder   = \"results\"\n",
    "name     = \"overview\"\n",
    "\n",
    "builder_load = RustIsingExperimentCreator(folder=folder, name=name)\n",
    "my_lengths   = [8, 16, 32, 64, 128]\n",
    "\n",
    "exp_from_file = builder_load.load(my_lengths)\n",
    "exp_from_file.are_results_available()"
   ]
  },
  {
   "cell_type": "code",
   "execution_count": null,
   "metadata": {},
   "outputs": [],
   "source": [
    "fig, ((ax1, ax2), (ax3, ax4)) = plt.subplots(2,2, figsize=(20,12))\n",
    "\n",
    "plt.subplots_adjust(hspace=0.3)\n",
    "\n",
    "fig.suptitle(f\"2D Ising: Metropolis algorithm in Rust\", y=0.95, fontsize=20)\n",
    "temps = None\n",
    "for (L, result) in get_results(exp_from_file).items():\n",
    "    if temps is None:\n",
    "        temps = result.temperatures\n",
    "        \n",
    "    ax1.scatter(temps, result.energy_density, s=15, marker= 'x', label=f\"N={L}x{L}\")\n",
    "    ax1.plot(temps, result.energy_density) \n",
    "    ax1.set_title(f\"Energy density\", fontsize=18)\n",
    "    ax1.set_xlabel(r\"Temperature [$J/k_B$]\", fontsize=15)\n",
    "    ax1.set_ylabel(r\"Energy/spin [J]\", fontsize=15)\n",
    "    ax1.legend(loc=\"upper left\", fontsize=14)\n",
    "\n",
    "    ax2.scatter(temps, result.magnetisation, s=15, marker= 'x', label=f\"N={L}x{L}\")\n",
    "    ax2.plot(temps, result.magnetisation)#, label=\"Rust\")\n",
    "    ax2.set_title(f\"Magnetization\", fontsize=18)\n",
    "    ax2.legend(loc=\"lower left\", fontsize=14)\n",
    "    ax2.set_xlabel(r\"Temperature [$J/k_B$]\", fontsize=15)\n",
    "    ax2.set_ylabel(r\"$|m|$\", fontsize=15)\n",
    "\n",
    "    ax3.scatter(temps, result.specific_heat, s=15, marker= 'x', label=f\"N={L}x{L}\")\n",
    "    ax3.plot(temps, result.specific_heat)#, label=\"Rust\")\n",
    "    ax3.set_title(f\"Specific heat/spin\", fontsize=18)\n",
    "    ax3.legend(loc=\"upper left\",fontsize=14)\n",
    "    ax3.set_xlabel(r\"Temperature [$J/k_B$]\", fontsize=15)\n",
    "    ax3.set_ylabel(r\"$\\chi_c$\", fontsize=15)\n",
    "\n",
    "    ax4.scatter(temps, result.mag_susceptibility, s=15, marker= 'x', label=f\"N={L}x{L}\")\n",
    "    ax4.semilogy(temps, result.mag_susceptibility)\n",
    "    ax4.set_title(f\"Magnetic susceptibility/spin\", fontsize=18)\n",
    "    ax4.legend(loc=\"lower right\",fontsize=14)\n",
    "    ax4.set_xlabel(r\"Temperature [$J/k_B$]\", fontsize=15)\n",
    "    ax4.set_ylabel(r\"$\\chi_M$\", fontsize=15)\n"
   ]
  },
  {
   "cell_type": "markdown",
   "metadata": {},
   "source": [
    "## Zoom close to the critical temperature"
   ]
  },
  {
   "cell_type": "code",
   "execution_count": null,
   "metadata": {},
   "outputs": [],
   "source": [
    "folder   = \"results\"\n",
    "name     = \"critical_temperatures\""
   ]
  },
  {
   "cell_type": "code",
   "execution_count": null,
   "metadata": {},
   "outputs": [],
   "source": [
    "temps_Tc1 = np.array([1.9 + i*0.02 for i in range(10)])\n",
    "temps_Tc2 = np.array([2.1 + i*0.01 for i in range(40)])\n",
    "temps_Tc3 = np.array([2.5 + i*0.02 for i in range(14)]) \n",
    "critical_temps  = np.concatenate((temps_Tc1, temps_Tc2, temps_Tc3))\n",
    "\n",
    "lengths                      = [8, 16, 32, 64, 128]\n",
    "(therm_steps, measure_steps) = get_default_monte_carlo_parameters(lengths)"
   ]
  },
  {
   "cell_type": "code",
   "execution_count": null,
   "metadata": {},
   "outputs": [],
   "source": [
    "critical_builder = RustIsingExperimentCreator(folder=folder, name=name)\n",
    "\n",
    "\n",
    "critical_exp = critical_builder.new_from_parameters(therm_steps, measure_steps, np.array(critical_temps), measure_corr_length=True)\n",
    "if not critical_exp.are_parameter_files_available():\n",
    "    critical_exp.write_parameter_files()"
   ]
  },
  {
   "cell_type": "code",
   "execution_count": null,
   "metadata": {},
   "outputs": [],
   "source": [
    "for L in get_lengths(critical_exp):\n",
    "    if not critical_exp.has_output(L):\n",
    "        critical_exp.run(L)"
   ]
  },
  {
   "cell_type": "markdown",
   "metadata": {},
   "source": [
    "### Load from file"
   ]
  },
  {
   "cell_type": "code",
   "execution_count": null,
   "metadata": {},
   "outputs": [],
   "source": [
    "folder   = \"results\"\n",
    "name     = \"critical_temperatures\"\n",
    "\n",
    "critial_load   = RustIsingExperimentCreator(folder=folder, name=name)\n",
    "lengths        = [8, 16, 32, 64, 128]\n",
    "\n",
    "critical_exp = critial_load.load(lengths)\n",
    "critical_exp.are_results_available()"
   ]
  },
  {
   "cell_type": "markdown",
   "metadata": {},
   "source": [
    "### Plot!"
   ]
  },
  {
   "cell_type": "code",
   "execution_count": null,
   "metadata": {},
   "outputs": [],
   "source": [
    "fig, ((ax1, ax2), (ax3, ax4)) = plt.subplots(2,2, figsize=(20,12))\n",
    "\n",
    "plt.subplots_adjust(hspace=0.3)\n",
    "\n",
    "fig.suptitle(f\"Close to the critical temperature\", y=0.95, fontsize=20)\n",
    "temps=None\n",
    "for (L, result) in get_results(critical_exp).items():\n",
    "    if temps is None:\n",
    "        temps = result.temperatures\n",
    "    \n",
    "    \n",
    "    ax1.scatter(temps, result.energy_density, s=15, marker= 'x', label=f\"N={L}x{L}\")\n",
    "    ax1.plot(temps, result.energy_density) \n",
    "    ax1.set_title(f\"Energy density\", fontsize=18)\n",
    "    ax1.set_xlabel(r\"Temperature [$J/k_B$]\", fontsize=15)\n",
    "    ax1.set_ylabel(r\"Energy/spin [J]\", fontsize=15)\n",
    "    ax1.legend(loc=\"upper left\", fontsize=14)\n",
    "\n",
    "    ax2.scatter(temps, result.magnetisation, s=15, marker= 'x', label=f\"N={L}x{L}\")\n",
    "    ax2.plot(temps, result.magnetisation)#, label=\"Rust\")\n",
    "    ax2.set_title(f\"Magnetization\", fontsize=18)\n",
    "    ax2.legend(loc=\"lower left\", fontsize=14)\n",
    "    ax2.set_xlabel(r\"Temperature [$J/k_B$]\", fontsize=15)\n",
    "    ax2.set_ylabel(r\"$|m|$\", fontsize=15)\n",
    "\n",
    "    ax3.scatter(temps, result.specific_heat, s=15, marker= 'x', label=f\"N={L}x{L}\")\n",
    "    ax3.plot(temps, result.specific_heat)#, label=\"Rust\")\n",
    "    ax3.set_title(f\"Specific heat/spin\", fontsize=18)\n",
    "    ax3.legend(loc=\"upper left\",fontsize=14)\n",
    "    ax3.set_xlabel(r\"Temperature [$J/k_B$]\", fontsize=15)\n",
    "    ax3.set_ylabel(r\"$\\chi_c$\", fontsize=15)\n",
    "\n",
    "    ax4.scatter(temps, result.mag_susceptibility, s=15, marker= 'x', label=f\"N={L}x{L}\")\n",
    "    ax4.semilogy(temps, result.mag_susceptibility)\n",
    "    ax4.set_title(f\"Magnetic susceptibility/spin\", fontsize=18)\n",
    "    ax4.legend(loc=\"upper left\",fontsize=14)\n",
    "    ax4.set_xlabel(r\"Temperature [$J/k_B$]\", fontsize=15)\n",
    "    ax4.set_ylabel(r\"$\\chi_M$\", fontsize=15)\n"
   ]
  },
  {
   "cell_type": "markdown",
   "metadata": {},
   "source": [
    "# Finite Size scaling"
   ]
  },
  {
   "cell_type": "code",
   "execution_count": null,
   "metadata": {},
   "outputs": [],
   "source": [
    "import fssa"
   ]
  },
  {
   "cell_type": "markdown",
   "metadata": {},
   "source": [
    "Using this package: https://pyfssa.readthedocs.io/en/stable/user.html <br>\n",
    "and this fork: https://github.com/JefferyWangSH/pyfssa/tree/master <br>\n",
    "See also  **Computational Studies of Quantum Spin Systems** by *Anders W. Sandvik*: [arxiv](https://arxiv.org/pdf/1101.3281), fig 14"
   ]
  },
  {
   "cell_type": "code",
   "execution_count": null,
   "metadata": {},
   "outputs": [],
   "source": [
    "lengths      = []\n",
    "mag_suscept  = []\n",
    "temps        = None\n",
    "for (L, res) in get_results(critical_exp).items():\n",
    "    if temps is None:\n",
    "        temps = res.temperatures\n",
    "    \n",
    "    if L != 128:\n",
    "        lengths.append(L)\n",
    "        mag_suscept.append(res.mag_susceptibility)\n",
    "    \n",
    "lengths     = np.asarray(lengths)\n",
    "mag_suscept = np.asarray(mag_suscept)"
   ]
  },
  {
   "cell_type": "markdown",
   "metadata": {},
   "source": [
    "Theoretical values: https://www.mv.helsinki.fi/home/rummukai/simu/fss.pdf "
   ]
  },
  {
   "cell_type": "code",
   "execution_count": null,
   "metadata": {},
   "outputs": [],
   "source": [
    "nu    = 1\n",
    "zeta  = 1.75\n",
    "rho_c = 2.27\n",
    "a     = mag_suscept\n",
    "da    = a * 0.1\n",
    "ret   = fssa.autoscale(l=lengths, rho=temps, a=a, da=da, rho_c0=rho_c, nu0=1, zeta0=zeta)\n",
    "ret"
   ]
  },
  {
   "cell_type": "code",
   "execution_count": null,
   "metadata": {},
   "outputs": [],
   "source": [
    "auto_scaled_mag_suscept = fssa.scaledata(lengths, temps, a, da, ret.rho, ret.nu, ret.zeta)\n",
    "print(ret.rho, ret.drho)\n",
    "print(ret.nu, ret.dnu)\n",
    "print(ret.zeta, ret.dzeta)\n",
    "print(ret.fun)"
   ]
  },
  {
   "cell_type": "markdown",
   "metadata": {},
   "source": [
    "NOTE: In the fssa package they use $\\zeta$ for the critical exponent of the correlation length, whereas I use $\\gamma$ to follow the notation of https://arxiv.org/pdf/1101.3281 (see figure 14)\n",
    "Also: https://www.mv.helsinki.fi/home/rummukai/simu/fss.pdf"
   ]
  },
  {
   "cell_type": "code",
   "execution_count": null,
   "metadata": {},
   "outputs": [],
   "source": [
    "fig, ax = plt.subplots(figsize=(12,7))\n",
    "plt.title(r\"Data collapse of the magnetic susceptibility: $\\nu={0:.3}$, $\\gamma={1:.3}1$\".format(ret.nu, ret.zeta),fontsize=17)\n",
    "\n",
    "max_y = 0\n",
    "for (n, length) in enumerate(lengths):\n",
    "    ax.scatter(auto_scaled_mag_suscept.x[n], auto_scaled_mag_suscept.y[n], label=f\"L={length}x{length}\", s=20, marker='x')\n",
    "\n",
    "    max_data = np.max(auto_scaled_mag_suscept.y[n])\n",
    "    if max_data > max_y:\n",
    "        max_y = max_data\n",
    "  \n",
    "ax.set_xlabel(r'$L^{1/\\nu}(T-T_c)$', fontsize=16)\n",
    "ax.set_ylabel(r'$L^{-\\gamma/{\\nu}}\\chi_M$', fontsize=16)\n",
    "ax.vlines(0, 0, 1.1*max_y, colors='k', linestyles=':', label=r\"$T_c \\approx {0:.4}$\".format(ret.rho))\n",
    "ax.set_xlim(-5, 5)\n",
    "ax.set_ylim(0,1.1*max_y)\n",
    "ax.legend(fontsize=16)\n",
    "plt.show()"
   ]
  },
  {
   "cell_type": "markdown",
   "metadata": {},
   "source": [
    "# Correlation length"
   ]
  },
  {
   "cell_type": "markdown",
   "metadata": {},
   "source": [
    "Using: Computational Studies of Quantum Spin Systems by Anders W. Sandvik\n",
    "[arxiv](https://arxiv.org/pdf/1101.3281); equation 70\n"
   ]
  },
  {
   "cell_type": "code",
   "execution_count": null,
   "metadata": {},
   "outputs": [],
   "source": [
    "from scipy.interpolate import CubicSpline, splrep, splev\n",
    "precision     = 0.0001\n",
    "temps_spline  = np.arange(temps[0],temps[-1], precision) \n",
    "coefs     = dict()\n",
    "xi_spline = dict()\n",
    "\n",
    "smoothing = {\n",
    "    8: 0.01,\n",
    "    16: 0.01,\n",
    "    32: 0.01,\n",
    "    64: 0.075,\n",
    "    128: 0.9\n",
    "}\n",
    "\n",
    "for (L, result) in get_results(critical_exp).items():\n",
    "\n",
    "    xi = result.correlation_length/L\n",
    "    \n",
    "    coefs[L]     = splrep(temps, xi, s=smoothing[L], k=3)\n",
    "    xi_spline[L] = splev(temps_spline, coefs[L])"
   ]
  },
  {
   "cell_type": "code",
   "execution_count": null,
   "metadata": {},
   "outputs": [],
   "source": [
    "crossing_indices= []\n",
    "for i in range(0, len(lengths)):\n",
    "    for j in range(i+1, len(lengths)):\n",
    "        L1 = lengths[i]\n",
    "        L2 = lengths[j]\n",
    "        diffs     = abs(xi_spline[L1] - xi_spline[L2])\n",
    "        min_index = np.argmin(diffs)\n",
    "        crossing_indices.append(min_index)\n",
    "\n",
    "crossing_temps = [temps_spline[index] for index in crossing_indices]\n",
    "\n",
    "significant = -int(np.log10(precision))\n",
    "Tc          = round(np.mean(crossing_temps), significant)\n",
    "Tc_std      = round(np.sqrt(np.var(crossing_temps, ddof=1)), significant)\n",
    "\n",
    "print(f\"Tc={Tc} +/- {Tc_std}\")"
   ]
  },
  {
   "cell_type": "code",
   "execution_count": null,
   "metadata": {},
   "outputs": [],
   "source": [
    "plt.figure(figsize=(15,10))\n",
    "plt.title(r'Correlation length $\\zeta$ over system size: obtained from $S(\\mathbf{q}) = <\\sigma_{\\mathbf{q}}\\sigma_{\\mathbf{-q}}>$',fontsize=18)\n",
    "\n",
    "ymin = 2*10**(-2)\n",
    "ymax = 3*10\n",
    "temps = None\n",
    "\n",
    "for (L, result) in get_results(critical_exp).items():\n",
    "    \n",
    "    if temps is None:\n",
    "        temps = result.temperatures\n",
    "        \n",
    "    label = \"\"\n",
    "    if L == 8:\n",
    "        label = \"Splines interpolation\"\n",
    "        \n",
    "    plt.plot(temps_spline, xi_spline[L], label=label)\n",
    "    plt.scatter(temps, result.correlation_length/L, label=f\"L={L}\")\n",
    "    plt.ylabel(r'$\\zeta / L$',fontsize=18)\n",
    "    plt.xticks(fontsize=14)\n",
    "    plt.yticks(fontsize=14)\n",
    "    plt.xlim(2.0, 2.6)\n",
    "    plt.ylim(ymin, ymax)\n",
    "    plt.yscale('log')\n",
    "    plt.xlabel(r\"Temperature [$J/k_B$]\", fontsize=20)\n",
    "plt.vlines(Tc,ymin, ymax, colors='k', linestyles=\":\", label=r\"$T_c \\approx {0} \\pm {1} $\".format(Tc, Tc_std))\n",
    "plt.legend(loc='upper right',fontsize=20)\n"
   ]
  }
 ],
 "metadata": {
  "kernelspec": {
   "display_name": "calculation-manager",
   "language": "python",
   "name": "python3"
  },
  "language_info": {
   "codemirror_mode": {
    "name": "ipython",
    "version": 3
   },
   "file_extension": ".py",
   "mimetype": "text/x-python",
   "name": "python",
   "nbconvert_exporter": "python",
   "pygments_lexer": "ipython3",
   "version": "3.13.2"
  }
 },
 "nbformat": 4,
 "nbformat_minor": 2
}
