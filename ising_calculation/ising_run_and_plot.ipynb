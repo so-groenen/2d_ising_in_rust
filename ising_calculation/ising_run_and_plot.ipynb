{
 "cells": [
  {
   "cell_type": "code",
   "execution_count": null,
   "metadata": {},
   "outputs": [],
   "source": [
    "import numpy as np\n",
    "import matplotlib.pyplot as plt\n",
    "from src.parameter_handler import RustMonteCarloData, perform_rust_computation"
   ]
  },
  {
   "cell_type": "markdown",
   "metadata": {},
   "source": [
    "## Perform Monte-Carlo calculation:"
   ]
  },
  {
   "cell_type": "code",
   "execution_count": null,
   "metadata": {},
   "outputs": [],
   "source": [
    "lengths              = [8, 16, 32, 64, 128]\n",
    "thermalisation_steps = dict()\n",
    "measurement_steps    = dict()\n",
    "\n",
    "for L in lengths:\n",
    "    if L <= 64:\n",
    "        thermalisation_steps[L] = np.uint(5e5)\n",
    "        measurement_steps[L]    = np.uint(5e5)\n",
    "    else:\n",
    "        thermalisation_steps[L] = np.uint(1e5)\n",
    "        measurement_steps[L]    = np.uint(1e5)"
   ]
  },
  {
   "cell_type": "code",
   "execution_count": null,
   "metadata": {},
   "outputs": [],
   "source": [
    "for L in lengths:\n",
    "    (Lx, Ly)     = (L, L)\n",
    "    therm_step   = thermalisation_steps[L]\n",
    "    measure_step = measurement_steps[L]\n",
    "    perform_rust_computation(f\"cargo run --release  -- {Lx} {Ly} {therm_step} {measure_step} \")"
   ]
  },
  {
   "cell_type": "markdown",
   "metadata": {},
   "source": [
    "Save the measurements:"
   ]
  },
  {
   "cell_type": "code",
   "execution_count": null,
   "metadata": {},
   "outputs": [],
   "source": [
    "results: dict[int, RustMonteCarloData] = dict()\n",
    "\n",
    "for L in lengths:\n",
    "    results[L] = RustMonteCarloData(f\"results/montecarlo_parallel_{L}x{L}_temp.txt\")\n",
    "    print(f\"elapsed time for size {L}x{L}: {results[L].elapsed_time/60:.3}min ({results[L].elapsed_time}s)\")\n",
    "\n",
    "for res1 in results.values():\n",
    "    for res2 in results.values():\n",
    "        if res1 is not res2:\n",
    "            same_temperatures = np.all(res1.temperatures == res2.temperatures)\n",
    "            assert(same_temperatures)\n",
    "\n",
    "temps = results[lengths[0]].temperatures"
   ]
  },
  {
   "cell_type": "markdown",
   "metadata": {},
   "source": [
    "### Plot!"
   ]
  },
  {
   "cell_type": "code",
   "execution_count": null,
   "metadata": {},
   "outputs": [],
   "source": [
    "fig, ((ax1, ax2), (ax3, ax4)) = plt.subplots(2,2, figsize=(15,12))\n",
    "# fig.tight_layout() \n",
    "plt.subplots_adjust(hspace=0.3)\n",
    "\n",
    "fig.suptitle(f\"2D Ising: Metropolis algorithm in Rust\", y=0.95, fontsize=20)\n",
    "for L in lengths:\n",
    "\n",
    "    ax1.scatter(temps, results[L].energy_density, s=15, marker= 'x', label=f\"N={L}x{L}\")\n",
    "    ax1.plot(temps, results[L].energy_density) \n",
    "    ax1.set_title(f\"Energy density\", fontsize=18)\n",
    "    ax1.set_xlabel(r\"Temperature [$J/k_B$]\", fontsize=15)\n",
    "    ax1.set_ylabel(r\"Energy/spin [J]\", fontsize=15)\n",
    "    ax1.legend(loc=\"upper left\", fontsize=14)\n",
    "\n",
    "    ax2.scatter(temps, results[L].magnetisation, s=15, marker= 'x', label=f\"N={L}x{L}\")\n",
    "    ax2.plot(temps, results[L].magnetisation)#, label=\"Rust\")\n",
    "    ax2.set_title(f\"Magnetization\", fontsize=18)\n",
    "    ax2.legend(loc=\"lower left\", fontsize=14)\n",
    "    ax2.set_xlabel(r\"Temperature [$J/k_B$]\", fontsize=15)\n",
    "    ax2.set_ylabel(r\"$|m|$\", fontsize=15)\n",
    "\n",
    "    ax3.scatter(temps, results[L].specific_heat, s=15, marker= 'x', label=f\"N={L}x{L}\")\n",
    "    ax3.plot(temps, results[L].specific_heat)#, label=\"Rust\")\n",
    "    ax3.set_title(f\"Specific heat/spin\", fontsize=18)\n",
    "    ax3.legend(loc=\"upper left\",fontsize=14)\n",
    "    ax3.set_xlabel(r\"Temperature [$J/k_B$]\", fontsize=15)\n",
    "    ax3.set_ylabel(r\"$\\chi_c$\", fontsize=15)\n",
    "\n",
    "    ax4.scatter(temps, results[L].mag_susceptibility, s=15, marker= 'x', label=f\"N={L}x{L}\")\n",
    "    ax4.semilogy(temps, results[L].mag_susceptibility)\n",
    "    ax4.set_title(f\"Magnetic susceptibility/spin\", fontsize=18)\n",
    "    ax4.legend(loc=\"upper left\",fontsize=14)\n",
    "    ax4.set_xlabel(r\"Temperature [$J/k_B$]\", fontsize=15)\n",
    "    ax4.set_ylabel(r\"$\\chi_M$\", fontsize=15)\n"
   ]
  },
  {
   "cell_type": "code",
   "execution_count": null,
   "metadata": {},
   "outputs": [],
   "source": []
  }
 ],
 "metadata": {
  "kernelspec": {
   "display_name": "Python 3",
   "language": "python",
   "name": "python3"
  },
  "language_info": {
   "codemirror_mode": {
    "name": "ipython",
    "version": 3
   },
   "file_extension": ".py",
   "mimetype": "text/x-python",
   "name": "python",
   "nbconvert_exporter": "python",
   "pygments_lexer": "ipython3",
   "version": "3.13.2"
  }
 },
 "nbformat": 4,
 "nbformat_minor": 2
}
